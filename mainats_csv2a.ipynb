{
 "cells": [
  {
   "cell_type": "markdown",
   "id": "cbZDkZnS06hp",
   "metadata": {
    "id": "cbZDkZnS06hp"
   },
   "source": [
    "**Pustaka**"
   ]
  },
  {
   "cell_type": "code",
   "execution_count": 2,
   "id": "q7EXirTi06hq",
   "metadata": {
    "id": "q7EXirTi06hq"
   },
   "outputs": [],
   "source": [
    "import numpy as np\n",
    "import pandas as pd\n",
    "import matplotlib.pyplot as plt\n",
    "from sklearn.model_selection import LeaveOneOut, cross_val_score, cross_val_predict\n",
    "from sklearn.preprocessing import StandardScaler\n",
    "from sklearn import svm\n",
    "from sklearn.metrics import confusion_matrix, accuracy_score, precision_score, recall_score, f1_score\n",
    "from skimage.feature import hog\n",
    "from mlxtend.plotting import plot_confusion_matrix"
   ]
  },
  {
   "cell_type": "markdown",
   "id": "b9VH8TRGxdxH",
   "metadata": {
    "id": "b9VH8TRGxdxH"
   },
   "source": [
    "Pemanggilan datasets"
   ]
  },
  {
   "cell_type": "code",
   "execution_count": 4,
   "id": "HUGi0Zcy06hr",
   "metadata": {
    "id": "HUGi0Zcy06hr"
   },
   "outputs": [],
   "source": [
    "train_data = pd.read_csv(r'C:\\Users\\wifan\\ATSMachineLearning\\img\\emnist-bymerge-train.csv', header=None)\n",
    "test_data = pd.read_csv(r'C:\\Users\\wifan\\ATSMachineLearning\\img\\emnist-bymerge-test.csv', header=None)"
   ]
  },
  {
   "cell_type": "markdown",
   "id": "A8BHqlD8xkDP",
   "metadata": {
    "id": "A8BHqlD8xkDP"
   },
   "source": [
    "Pembagian sampel & perubahan jenis dari bilangan ke images"
   ]
  },
  {
   "cell_type": "code",
   "execution_count": 6,
   "id": "fauGAERN06hr",
   "metadata": {
    "id": "fauGAERN06hr"
   },
   "outputs": [],
   "source": [
    "X_train = train_data.iloc[:, 1:].values.reshape(-1, 28, 28).astype('float32') \n",
    "y_train = train_data.iloc[:, 0].values.astype('int')    \n",
    "X_test = test_data.iloc[:, 1:].values.reshape(-1, 28, 28).astype('float32')\n",
    "y_test = test_data.iloc[:, 0].values.astype('int')"
   ]
  },
  {
   "cell_type": "code",
   "execution_count": 7,
   "id": "MkPdVuBN06hr",
   "metadata": {
    "id": "MkPdVuBN06hr"
   },
   "outputs": [],
   "source": [
    "max_samples = 500\n",
    "if len(X_train) > max_samples:\n",
    "    X_train = X_train[:max_samples]\n",
    "    y_train = y_train[:max_samples]"
   ]
  },
  {
   "cell_type": "code",
   "execution_count": 8,
   "id": "z47y7eHn06hr",
   "metadata": {
    "id": "z47y7eHn06hr"
   },
   "outputs": [],
   "source": [
    "max_samples = 500\n",
    "if len(X_test) > max_samples:\n",
    "    X_test = X_test[:max_samples]\n",
    "    y_test = y_test[:max_samples]"
   ]
  },
  {
   "cell_type": "markdown",
   "id": "ciTxuJ_UxqMN",
   "metadata": {
    "id": "ciTxuJ_UxqMN"
   },
   "source": [
    "Ekstraksi dataset dengan fitur Yang di Word (HOG)"
   ]
  },
  {
   "cell_type": "code",
   "execution_count": 10,
   "id": "1_HiUvQe06hs",
   "metadata": {
    "id": "1_HiUvQe06hs"
   },
   "outputs": [],
   "source": [
    "hog_features_train = []\n",
    "hog_images_train = []\n",
    "for image in X_train:\n",
    "    feature, hog_img = hog(image.reshape((28, 28)),\n",
    "                           orientations = 9,\n",
    "                           pixels_per_cell = (8,8),\n",
    "                           cells_per_block = (2,2),\n",
    "                           visualize = True,\n",
    "                           block_norm = 'L2')\n",
    "    hog_features_train.append(feature)\n",
    "    hog_images_train.append(hog_img)\n",
    "hog_features_train_np = np.array(hog_features_train)\n",
    "hog_images_train_np = np.array(hog_images_train)\n",
    "\n",
    "hog_features_test = []\n",
    "hog_images_test = []\n",
    "for image in X_test:\n",
    "    feature, hog_img = hog(image.reshape((28, 28)),\n",
    "                           orientations = 9,\n",
    "                           pixels_per_cell = (8,8),\n",
    "                           cells_per_block = (2,2),\n",
    "                           visualize = True,\n",
    "                           block_norm = 'L2')\n",
    "    hog_features_test.append(feature)\n",
    "    hog_images_test.append(hog_img)\n",
    "\n",
    "hog_features_test_np = np.array(hog_features_test)\n",
    "hog_images_test_np = np.array(hog_images_test)"
   ]
  },
  {
   "cell_type": "markdown",
   "id": "TpvYX984x-07",
   "metadata": {
    "id": "TpvYX984x-07"
   },
   "source": [
    "data HOG"
   ]
  },
  {
   "cell_type": "code",
   "execution_count": 12,
   "id": "cMor7fHZFnc9",
   "metadata": {
    "id": "cMor7fHZFnc9"
   },
   "outputs": [],
   "source": [
    "scaler = StandardScaler()\n",
    "hog_features_train_scaled = scaler.fit_transform(hog_features_train_np)\n",
    "hog_features_test_scaled = scaler.transform(hog_features_test_np)"
   ]
  },
  {
   "cell_type": "markdown",
   "id": "Uqw5GyRGyB6K",
   "metadata": {
    "id": "Uqw5GyRGyB6K"
   },
   "source": [
    "Klasifikasi data SVM"
   ]
  },
  {
   "cell_type": "code",
   "execution_count": 14,
   "id": "C668HJnL06hs",
   "metadata": {
    "id": "C668HJnL06hs"
   },
   "outputs": [],
   "source": [
    "clf = svm.SVC(kernel='rbf', C=1, gamma='scale')"
   ]
  },
  {
   "cell_type": "markdown",
   "id": "x_q2pH9UyIyR",
   "metadata": {
    "id": "x_q2pH9UyIyR"
   },
   "source": [
    "Perhitungan LOOVC"
   ]
  },
  {
   "cell_type": "code",
   "execution_count": 16,
   "id": "P-9wWeTnH-Km",
   "metadata": {
    "id": "P-9wWeTnH-Km"
   },
   "outputs": [],
   "source": [
    "loo = LeaveOneOut()\n",
    "y_pred = cross_val_predict(clf, hog_features_train_scaled, y_train, cv=loo)"
   ]
  },
  {
   "cell_type": "code",
   "execution_count": 17,
   "id": "yPT0YEi806ht",
   "metadata": {
    "colab": {
     "base_uri": "https://localhost:8080/"
    },
    "id": "yPT0YEi806ht",
    "outputId": "1a04c3a1-1362-4211-a60f-55d9df031ff9"
   },
   "outputs": [
    {
     "name": "stderr",
     "output_type": "stream",
     "text": [
      "E:\\Anaconda\\Lib\\site-packages\\sklearn\\metrics\\_classification.py:1531: UndefinedMetricWarning: Precision is ill-defined and being set to 0.0 in labels with no predicted samples. Use `zero_division` parameter to control this behavior.\n",
      "  _warn_prf(average, modifier, f\"{metric.capitalize()} is\", len(result))\n"
     ]
    }
   ],
   "source": [
    "loo_confusion_matrix = confusion_matrix(y_train, y_pred)\n",
    "loo_accuracy = accuracy_score(y_train, y_pred)\n",
    "loo_precision = precision_score(y_train, y_pred, average='weighted')\n",
    "loo_recall = recall_score(y_train, y_pred, average='weighted')\n",
    "loo_f1 = f1_score(y_train, y_pred, average='weighted')"
   ]
  },
  {
   "cell_type": "code",
   "execution_count": 18,
   "id": "c_JBk_kgNxqw",
   "metadata": {
    "colab": {
     "base_uri": "https://localhost:8080/"
    },
    "id": "c_JBk_kgNxqw",
    "outputId": "6c9a3240-eda1-43cd-c61e-30150e481d2d"
   },
   "outputs": [
    {
     "name": "stdout",
     "output_type": "stream",
     "text": [
      "\n",
      "LOOCV Results (Training Data):\n",
      "Confusion Matrix:\n",
      "[[29  0  0 ...  0  0  0]\n",
      " [ 0 21  0 ...  0  0  0]\n",
      " [ 0  0 23 ...  0  0  0]\n",
      " ...\n",
      " [ 0  0  0 ...  0  0  0]\n",
      " [ 1  0  0 ...  0  3  2]\n",
      " [ 0  1  1 ...  0  0 16]]\n",
      "Accuracy: 0.53\n",
      "Precision: 0.40845882814665363\n",
      "Recall: 0.53\n",
      "F1 Score: 0.4489705077816033\n"
     ]
    }
   ],
   "source": [
    "print(\"\\nLOOCV Results (Training Data):\")\n",
    "print(\"Confusion Matrix:\")\n",
    "print(loo_confusion_matrix)\n",
    "print(\"Accuracy:\", loo_accuracy)\n",
    "print(\"Precision:\", loo_precision)\n",
    "print(\"Recall:\", loo_recall)\n",
    "print(\"F1 Score:\", loo_f1)"
   ]
  },
  {
   "cell_type": "markdown",
   "id": "-hqXOXYoyRUQ",
   "metadata": {
    "id": "-hqXOXYoyRUQ"
   },
   "source": [
    "tabel matriks"
   ]
  },
  {
   "cell_type": "code",
   "execution_count": 20,
   "id": "sO0UAJRCWGVv",
   "metadata": {
    "id": "sO0UAJRCWGVv"
   },
   "outputs": [],
   "source": [
    "def plot_confusion_mat(cm):\n",
    "    fig, ax = plt.subplots(figsize=(10, 10))\n",
    "    plot_confusion_matrix(conf_mat=cm, ax=ax, cmap=plt.cm.Blues)\n",
    "    plt.title('Confusion Matrix')\n",
    "    plt.xlabel('Predicted Label')\n",
    "    plt.ylabel('True Label')\n",
    "    plt.show()"
   ]
  },
  {
   "cell_type": "code",
   "execution_count": 21,
   "id": "mQd5MwaoneLX",
   "metadata": {
    "colab": {
     "base_uri": "https://localhost:8080/",
     "height": 487
    },
    "id": "mQd5MwaoneLX",
    "outputId": "8f6d3262-3569-4220-d6f8-92f3c5e61bef"
   },
   "outputs": [
    {
     "data": {
      "text/plain": [
       "(<Figure size 640x480 with 1 Axes>,\n",
       " <Axes: xlabel='predicted label', ylabel='true label'>)"
      ]
     },
     "execution_count": 21,
     "metadata": {},
     "output_type": "execute_result"
    },
    {
     "data": {
      "image/png": "[encoded data removed]",
      "text/plain": [
       "<Figure size 640x480 with 1 Axes>"
      ]
     },
     "metadata": {},
     "output_type": "display_data"
    }
   ],
   "source": [
    "plot_confusion_matrix(loo_confusion_matrix)"
   ]
  },
  {
   "cell_type": "markdown",
   "id": "yqsOO5Y0yX4X",
   "metadata": {
    "id": "yqsOO5Y0yX4X"
   },
   "source": [
    "Membandingkan gambar original dengan fitur ekstraksi HOG"
   ]
  },
  {
   "cell_type": "code",
   "execution_count": 23,
   "id": "6nqImiOqnhG6",
   "metadata": {
    "id": "6nqImiOqnhG6"
   },
   "outputs": [],
   "source": [
    "def plot_images_with_hog(X, hog_images, title=\"\"):\n",
    "    fig, axes = plt.subplots(2, 10, figsize=(15, 5))\n",
    "    fig.suptitle(title)\n",
    "\n",
    "    # Plot original images\n",
    "    for i in range(min(len(X), 10)):\n",
    "        axes[0, i].imshow(X[i].reshape((28, 28)), cmap='gray')\n",
    "        axes[0, i].axis('off')\n",
    "\n",
    "    # Plot HOG images\n",
    "    for i in range(min(len(hog_images), 10)):\n",
    "        axes[1, i].imshow(hog_images[i].reshape((28, 28)), cmap='gray')\n",
    "        axes[1, i].axis('off')\n",
    "\n",
    "    plt.show()"
   ]
  },
  {
   "cell_type": "code",
   "execution_count": 24,
   "id": "aGk7R6NFnlRR",
   "metadata": {
    "id": "aGk7R6NFnlRR"
   },
   "outputs": [],
   "source": [
    "def extract_hog_images(images):\n",
    "    hog_images = []\n",
    "    for image in images:\n",
    "        _, hog_img = hog(image.reshape((28, 28)),\n",
    "                         orientations=9,\n",
    "                         pixels_per_cell=(8, 8),\n",
    "                         cells_per_block=(2, 2),\n",
    "                         visualize=True,\n",
    "                         block_norm='L2')\n",
    "        hog_images.append(hog_img)\n",
    "    return np.array(hog_images)"
   ]
  },
  {
   "cell_type": "code",
   "execution_count": 25,
   "id": "WwFakGtVnohu",
   "metadata": {
    "id": "WwFakGtVnohu"
   },
   "outputs": [],
   "source": [
    "hog_images_train = extract_hog_images(X_train)"
   ]
  },
  {
   "cell_type": "code",
   "execution_count": 26,
   "id": "EkW59gaTnrcT",
   "metadata": {
    "colab": {
     "base_uri": "https://localhost:8080/",
     "height": 409
    },
    "id": "EkW59gaTnrcT",
    "outputId": "89ab07b1-2b8a-4cd7-b898-d6126d87c956"
   },
   "outputs": [
    {
     "data": {
      "image/png": "[encoded data removed]",
      "text/plain": [
       "<Figure size 1500x500 with 20 Axes>"
      ]
     },
     "metadata": {},
     "output_type": "display_data"
    }
   ],
   "source": [
    "plot_images_with_hog(X_train, hog_images_train, title=\"Gambar Ori vs HOG Features\")"
   ]
  }
 ],
 "metadata": {
  "accelerator": "GPU",
  "colab": {
   "gpuType": "T4",
   "provenance": []
  },
  "kernelspec": {
   "display_name": "Python 3 (ipykernel)",
   "language": "python",
   "name": "python3"
  },
  "language_info": {
   "codemirror_mode": {
    "name": "ipython",
    "version": 3
   },
   "file_extension": ".py",
   "mimetype": "text/x-python",
   "name": "python",
   "nbconvert_exporter": "python",
   "pygments_lexer": "ipython3",
   "version": "3.12.4"
  }
 },
 "nbformat": 4,
 "nbformat_minor": 5
}
